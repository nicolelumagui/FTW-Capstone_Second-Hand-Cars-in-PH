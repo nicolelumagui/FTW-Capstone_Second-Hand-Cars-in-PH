{
 "cells": [
  {
   "cell_type": "markdown",
   "metadata": {},
   "source": [
    "# Get City from Full Address"
   ]
  },
  {
   "cell_type": "markdown",
   "metadata": {},
   "source": [
    "### Imports"
   ]
  },
  {
   "cell_type": "code",
   "execution_count": null,
   "metadata": {},
   "outputs": [],
   "source": [
    "import pandas as pd\n",
    "import numpy as np"
   ]
  },
  {
   "cell_type": "markdown",
   "metadata": {},
   "source": [
    "### Set up"
   ]
  },
  {
   "cell_type": "code",
   "execution_count": null,
   "metadata": {},
   "outputs": [],
   "source": [
    "### Set path of needed CSV file\n",
    "main_csv = \"Book2.csv\" #CSV file path that needs cities to be updated"
   ]
  },
  {
   "cell_type": "code",
   "execution_count": null,
   "metadata": {},
   "outputs": [],
   "source": [
    "### Indicate the column name for full address in the file\n",
    "location_col = \"seller_location\"\n",
    "\n",
    "### Set the name for city\n",
    "city_col = \"seller_city\""
   ]
  },
  {
   "cell_type": "code",
   "execution_count": null,
   "metadata": {},
   "outputs": [],
   "source": [
    "### Set save path for the updated DF to be exported to CSV (file name should be nonexistent on the folder)\n",
    "savepath = \"C:/Users/acelo/Desktop/carmudi_locs_new1.csv\""
   ]
  },
  {
   "cell_type": "markdown",
   "metadata": {},
   "source": [
    "### Get and check dataframes"
   ]
  },
  {
   "cell_type": "code",
   "execution_count": null,
   "metadata": {},
   "outputs": [],
   "source": [
    "df_main = pd.read_csv(main_csv)"
   ]
  },
  {
   "cell_type": "code",
   "execution_count": null,
   "metadata": {
    "scrolled": true
   },
   "outputs": [],
   "source": [
    "df_main.shape"
   ]
  },
  {
   "cell_type": "code",
   "execution_count": null,
   "metadata": {},
   "outputs": [],
   "source": [
    "df_main.head()"
   ]
  },
  {
   "cell_type": "markdown",
   "metadata": {},
   "source": [
    "### Fill `city` column\n",
    "This is based on the full address indicated on the seller_location."
   ]
  },
  {
   "cell_type": "code",
   "execution_count": null,
   "metadata": {},
   "outputs": [],
   "source": [
    "cities = [' Alaminos ', ' Angeles ', ' Antipolo ', ' Bacolod ', ' Bacoor ', ' Bago ', ' Baguio ', ' Bais ', ' Balanga ', ' Batac ', ' Bayawan ', ' Baybay ', ' Bayugan ', ' Bi\\\\xf1an ', ' Binan ', ' BiÃ±an ', ' Biñan ', ' Bi\\xc3\\xb1an ', ' Bislig ', ' Bogo ', ' Borongan ', ' Butuan ', ' Cabadbaran ', ' Cabanatuan ', ' Cainta ', ' Cabuyao ', ' Cadiz ', ' Cagayan de Oro ', ' Calamba ', ' Calapan ', ' Calbayog ', ' Caloocan ', ' Candon ', ' Canlaon ', ' Carcar ', ' Catbalogan ', ' Cauayan ', ' Cotabato ', ' Dagupan ', ' Danao ', ' Dapitan ', ' Dasmari\\\\xf1as ', ' Dasmarinas ', ' Dasmari\\xc3\\xb1as ', ' Dasmariñas ', ' Davao ', ' Digos ', ' Dipolog ', ' Dumaguete ', ' El Salvador ', ' Escalante ', ' Gapan ', ' General Santos ', ' General Trias ', ' Gingoog ', ' Guihulngan ', ' Himamaylan ', ' Ilagan ', ' Iligan ', ' Iloilo ', ' Imus ', ' Iriga ', ' Isabela ', ' Kabankalan ', ' Kidapawan ', ' Koronadal ', ' La Carlota ', ' Lamitan ', ' Laoag ', ' Lapu?Lapu ', 'Lapu-Lapu', ' Lapu Lapu ', ' Lapulapu ', ' Las Pi\\\\xf1as ', ' Las Pinas ', ' Las Pi\\xc3\\xb1as ', ' Las Piñas ', ' Legazpi ', ' Ligao ', ' Lipa ', ' Lucena ', ' Maasin ', ' Mabalacat ', ' Makati ', ' Malabon ', ' Malaybalay ', ' Malolos ', ' Mandaluyong ', ' Mandaue ', ' Manila ', ' Marawi ', ' Marikina ', ' Masbate ', ' Mati ', ' Meycauayan ', ' Mu\\\\xf1oz ', ' Munoz ', ' Muñoz ', ' Mu\\xc3\\xb1oz ', ' Muntinlupa ', ' Naga ', ' Naga ', ' Navotas ', ' Olongapo ', ' Ormoc ', ' Oroquieta ', ' Ozamiz ', ' Pagadian ', ' Palayan ', ' Panabo ', ' Para\\\\xf1aque ', ' Paranaque ', ' Para\\xc3\\xb1aque ', ' Parañaque ', ' Pasay ', ' Pasig ', ' Passi ', ' Puerto Princesa ', ' Quezon ', ' Roxas ', ' Sagay ', ' Samal ', ' San Carlos ', ' San Carlos ', ' San Fernando ', ' San Fernando ', ' San Jose ', ' San Jose del Monte ', ' San Juan ', ' San Pablo ', ' San Pedro ', ' Santa Rosa ', ' Santiago ', ' Silay ', ' Sipalay ', ' Sorsogon ', ' Surigao ', ' Tabaco ', ' Tabuk ', ' Tacloban ', ' Tacurong ', ' Tagaytay ', ' Tagbilaran ', ' Taguig ', ' Tagum ', ' Talisay ', ' Talisay ', ' Tanauan ', ' Tandag ', ' Tangub ', ' Tanjay ', ' Tarlac ', ' Tayabas ', ' Toledo ', ' Trece Martires ', ' Tuguegarao ', ' Urdaneta ', ' Valencia ', ' Valenzuela ', ' Victorias ', ' Vigan ', ' Zamboanga ', ' Batangas ', ' Cavite ', ' Cebu ', ' QC ']"
   ]
  },
  {
   "cell_type": "code",
   "execution_count": null,
   "metadata": {},
   "outputs": [],
   "source": [
    "for row in range(int(df_main.shape[0])):\n",
    "    if not df_main.loc[row, location_col] == \"Philippines\":\n",
    "        for city in cities:\n",
    "            if city in \" \" + df_main.loc[row, location_col].replace(\",\", \" \") + \" \":\n",
    "                if city == \" QC \":\n",
    "                    df_main.loc[row, city_col] = \"Quezon\"\n",
    "                else:\n",
    "                    df_main.loc[row, city_col] = city\n",
    "                break\n",
    "    else:\n",
    "        df_main.loc[row, city_col] = \"Philippines\""
   ]
  },
  {
   "cell_type": "markdown",
   "metadata": {},
   "source": [
    "### Check if seller_city column was updated"
   ]
  },
  {
   "cell_type": "code",
   "execution_count": null,
   "metadata": {
    "scrolled": true
   },
   "outputs": [],
   "source": [
    "df_main.head()"
   ]
  },
  {
   "cell_type": "markdown",
   "metadata": {},
   "source": [
    "### Export updated dataframe to CSV"
   ]
  },
  {
   "cell_type": "code",
   "execution_count": null,
   "metadata": {
    "scrolled": true
   },
   "outputs": [],
   "source": [
    "main_updated_tocsv = df_main.to_csv(savepath, index=None, header=True)"
   ]
  }
 ],
 "metadata": {
  "kernelspec": {
   "display_name": "Python 2",
   "language": "python",
   "name": "python2"
  },
  "language_info": {
   "codemirror_mode": {
    "name": "ipython",
    "version": 2
   },
   "file_extension": ".py",
   "mimetype": "text/x-python",
   "name": "python",
   "nbconvert_exporter": "python",
   "pygments_lexer": "ipython2",
   "version": "2.7.15"
  }
 },
 "nbformat": 4,
 "nbformat_minor": 2
}
